{
 "cells": [
  {
   "cell_type": "code",
   "execution_count": 1,
   "metadata": {},
   "outputs": [],
   "source": [
    "import os\n",
    "\n",
    "def rename(execute, base, adder):\n",
    "    root = 'C:/Users/Yang/Downloads'\n",
    "    fns = [fn for fn in sorted(os.listdir(root), key=lambda x: os.stat(os.path.join(root, x)).st_mtime)]\n",
    "\n",
    "    for i, fn in enumerate(fns[-len(adder)*2:]):\n",
    "        j = i//2\n",
    "        sfx = fn.split('.')[-1]\n",
    "        idx = adder[j] + base\n",
    "        out = '{}.{}'.format(idx,sfx)\n",
    "        \n",
    "        if execute:\n",
    "            with open('log.txt','a') as f:\n",
    "                f.write('{} \\t{}\\n'.format(out, fn))\n",
    "            os.rename(\n",
    "                os.path.join(root, fn),\n",
    "                os.path.join(root, '2dmat', out)\n",
    "            )\n",
    "        else:\n",
    "            print(out, '\\t', fn)"
   ]
  },
  {
   "cell_type": "code",
   "execution_count": 4,
   "metadata": {},
   "outputs": [
    {
     "name": "stdout",
     "output_type": "stream",
     "text": [
      "779.txt \t CVD WSe2_20um_1s_100uW_300K_760nm_20step_bgcorrection_pl-pos.txt\n",
      "779.xlsx \t CVD WSe2_20um_1s_100uW_300K_760nm_20step_bgcorrection_pl_input-pos.xlsx\n",
      "780.txt \t CVD WSe2_20um_1s_100uW_300K_760nm_40step_bgcorrection_pl-pos.txt\n",
      "780.xlsx \t CVD WSe2_20um_1s_100uW_300K_760nm_40step_bgcorrection_pl_input-pos.xlsx\n",
      "781.xlsx \t CVD WSe2_20um_1s_100uW_300K_760nm_80step_bgcorrection_pl_input-pos.xlsx\n",
      "781.txt \t CVD WSe2_20um_1s_100uW_300K_760nm_80step_bgcorrection_pl-pos.txt\n",
      "782.xlsx \t pl_sample#1_mapping2_50uW_1s_0.25um,80step_pinhole_pl_input-pos.xlsx\n",
      "782.txt \t pl_sample#1_mapping2_50uW_1s_0.25um,80step_pinhole_pl-pos.txt\n",
      "783.txt \t mapping1_0.25step_40x40_0.2mW_4s_pl-pos.txt\n",
      "783.xlsx \t mapping1_0.25step_40x40_0.2mW_4s_pl_input-pos.xlsx\n",
      "784.txt \t mapping2_0.25step_40x40_0.2mW_4s_pl-pos.txt\n",
      "784.xlsx \t mapping2_0.25step_40x40_0.2mW_4s_pl_input-pos.xlsx\n",
      "785.txt \t mapping4_0.25step_40x40_0.2mW_4s_pl-pos.txt\n",
      "785.xlsx \t mapping4_0.25step_40x40_0.2mW_4s_pl_input-pos.xlsx\n",
      "786.txt \t HS#3_annealing_Area 1_77K_0.2mW_4s_40step_10um_bgcorrection_pl-pos.txt\n",
      "786.xlsx \t HS#3_annealing_Area 1_77K_0.2mW_4s_40step_10um_bgcorrection_pl_input-pos.xlsx\n",
      "787.txt \t HS#3_annealing_Area 2_77K_0.2mW_4s_40step_10um_bgcorrection_pl-pos.txt\n",
      "787.xlsx \t HS#3_annealing_Area 2_77K_0.2mW_4s_40step_10um_bgcorrection_pl_input-pos.xlsx\n",
      "788.txt \t HS#3_annealing_Area 4_77K_0.2mW_4s_40step_10um_bg2correction_pl-pos (1).txt\n",
      "788.xlsx \t HS#3_annealing_Area 4_77K_0.2mW_4s_40step_10um_bgcorrection_pl_input-pos (1).xlsx\n",
      "789.txt \t Mapping2_50uW_1s_0.25um_80step_pinhole_pl-pos.txt\n",
      "789.xlsx \t mapping2_50uW_1s_0.25um,80step_pinhole_pl_input-pos.xlsx\n",
      "790.xlsx \t mapping1_HS#4_77K_50uW_1s_80step_20um_bgcorrection_pl_input-pos.xlsx\n",
      "790.txt \t mapping1_HS#4_77K_50uW_1s_80step_20um_bgcorrection_pl-pos.txt\n",
      "791.txt \t HS#4_77K_50uW_1s_80step_20um_670cw_bgcorrection_pl-pos.txt\n",
      "791.xlsx \t HS#4_77K_50uW_1s_80step_20um_670cw_bgcorrection_pl_input-pos.xlsx\n",
      "792.xlsx \t HS#4_mapping_77K_400uW_1s_80step_20um_670cw_bgcorrection_pl_input-pos.xlsx\n",
      "792.txt \t HS#4_mapping_77K_400uW_1s_80step_20um_670cw_bgcorrection_pl-pos.txt\n"
     ]
    }
   ],
   "source": [
    "base  = 779\n",
    "adder = range(14)\n",
    "rename(execute=False, base=base, adder=adder)\n",
    "rename(execute=True, base=base, adder=adder)"
   ]
  },
  {
   "cell_type": "code",
   "execution_count": null,
   "metadata": {},
   "outputs": [],
   "source": []
  }
 ],
 "metadata": {
  "kernelspec": {
   "display_name": "Python 3.8.13 ('image')",
   "language": "python",
   "name": "python3"
  },
  "language_info": {
   "codemirror_mode": {
    "name": "ipython",
    "version": 3
   },
   "file_extension": ".py",
   "mimetype": "text/x-python",
   "name": "python",
   "nbconvert_exporter": "python",
   "pygments_lexer": "ipython3",
   "version": "3.8.13"
  },
  "orig_nbformat": 4,
  "vscode": {
   "interpreter": {
    "hash": "6f467173ed075531eded7ddfd2dd226554d2abc622991fcbf5103c621aff9698"
   }
  }
 },
 "nbformat": 4,
 "nbformat_minor": 2
}
